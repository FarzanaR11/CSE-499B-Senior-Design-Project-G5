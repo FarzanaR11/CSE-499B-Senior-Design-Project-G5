{
  "nbformat": 4,
  "nbformat_minor": 0,
  "metadata": {
    "colab": {
      "provenance": []
    },
    "kernelspec": {
      "name": "python3",
      "display_name": "Python 3"
    },
    "language_info": {
      "name": "python"
    }
  },
  "cells": [
    {
      "cell_type": "markdown",
      "source": [
        "#Installing libraries"
      ],
      "metadata": {
        "id": "N18WRVeI1Ioy"
      }
    },
    {
      "cell_type": "code",
      "source": [
        "!pip install qiskit\n",
        "!pip install pylatexenc"
      ],
      "metadata": {
        "id": "8VAbixMvRzYn"
      },
      "execution_count": null,
      "outputs": []
    },
    {
      "cell_type": "code",
      "source": [
        "from numpy import *\n",
        "from matplotlib.pyplot import *"
      ],
      "metadata": {
        "id": "aXH9-cfo1VV2"
      },
      "execution_count": null,
      "outputs": []
    },
    {
      "cell_type": "markdown",
      "source": [
        "# Importing Standard Qiskit Libraries"
      ],
      "metadata": {
        "id": "JgNf89Bs1ZCD"
      }
    },
    {
      "cell_type": "code",
      "source": [
        "from qiskit import QuantumRegister, ClassicalRegister, IBMQ\n",
        "from qiskit import QuantumCircuit, Aer, transpile, assemble, execute\n",
        "from qiskit.tools.jupyter import *\n",
        "from qiskit.visualization import *\n",
        "from qiskit.providers.aer import QasmSimulator"
      ],
      "metadata": {
        "id": "8VXsJDUh1bKy"
      },
      "execution_count": null,
      "outputs": []
    },
    {
      "cell_type": "markdown",
      "source": [
        "# Building 3 qubit circuit"
      ],
      "metadata": {
        "id": "MRxVFz8EHNLV"
      }
    },
    {
      "cell_type": "code",
      "source": [
        " cl= ClassicalRegister(3,\"measure\")\n",
        "alice_qubit= QuantumRegister(1, 'alice__qubit')\n",
        "\n",
        "#lq1= QuantumRegister(3, 'logical_qubit_alice')\n",
        "#ancilla1= QuantumRegister(2, 'anicilla_qubit_alice')\n",
        "#repetation_code_qc= QuantumCircuit(alice_qubit,lq1,ancilla1,lq2,ancilla2,cr)\n",
        "#repetation_code_qc= QuantumCircuit(alice_qubit,lq1,lq2,cr)\n",
        "\n",
        "ancilla_qubit= QuantumRegister(2, 'ancilla_qubit_alice')\n",
        "rep_ckt= QuantumCircuit(alice_qubit, ancilla_qubit, cl)\n",
        "\n",
        "#Encoding\n",
        "rep_ckt.cx(alice_qubit, ancilla_qubit)\n",
        "rep_ckt.barrier()\n",
        "\n",
        "#repetition_code_qc.h(alice_qubit[0])\n",
        "#repetition_code_qc.barrier()\n",
        "#repetition_code_qc.cx(alice_qubit,lq1)\n",
        "#repetition_code_qc.barrier()\n",
        "\n",
        "rep_ckt.x([0])\n",
        "rep_ckt.barrier()\n",
        "\n",
        "#Decoding\n",
        "rep_ckt.cx(alice_qubit, ancilla_qubit)\n",
        "rep_ckt.mct([1,2],0)\n",
        "\n",
        "\n",
        "# avoid the gates being combined\n",
        "rep_ckt.barrier()\n",
        "\n",
        "rep_ckt.measure([0,1,2], cl[::-1])\n",
        "\n",
        "rep_ckt.draw(output='mpl')"
      ],
      "metadata": {
        "colab": {
          "base_uri": "https://localhost:8080/",
          "height": 231
        },
        "id": "2x73CLRu1ea7",
        "outputId": "b3eff6f1-56d4-453e-e218-e46021c0c223"
      },
      "execution_count": null,
      "outputs": [
        {
          "output_type": "execute_result",
          "data": {
            "text/plain": [
              "<Figure size 987.119x264.88 with 1 Axes>"
            ],
            "image/png": "[encoded data removed]"
          },
          "metadata": {},
          "execution_count": 13
        }
      ]
    },
    {
      "cell_type": "code",
      "source": [
        "sim = Aer.get_backend('qasm_simulator') \n",
        "res= execute(rep_ckt, backend=sim, shots=64).result().get_counts()\n",
        "print(res)"
      ],
      "metadata": {
        "colab": {
          "base_uri": "https://localhost:8080/"
        },
        "id": "JtYT3Ztv9vvq",
        "outputId": "45af1b38-c583-4666-b4a5-d4804498ee53"
      },
      "execution_count": null,
      "outputs": [
        {
          "output_type": "stream",
          "name": "stdout",
          "text": [
            "{'011': 64}\n"
          ]
        }
      ]
    },
    {
      "cell_type": "code",
      "source": [],
      "metadata": {
        "colab": {
          "base_uri": "https://localhost:8080/"
        },
        "id": "jzuyP8v7AvHv",
        "outputId": "76b31af9-9d8a-41b0-b1e7-35bb39ee06d5"
      },
      "execution_count": null,
      "outputs": [
        {
          "output_type": "stream",
          "name": "stdout",
          "text": [
            "['011']\n"
          ]
        }
      ]
    },
    {
      "cell_type": "markdown",
      "source": [],
      "metadata": {
        "id": "77fwLVtRIW6N"
      }
    },
    {
      "cell_type": "code",
      "source": [
        "result=[]\n",
        "for a1 in range(2):\n",
        "      for a2 in range(2):\n",
        "           for a3 in range(2):\n",
        "                     a=[\"I\",\"I\",\"I\"]\n",
        "                                            \n",
        "                     alice_qubit= QuantumRegister(1, 'alice__qubit')\n",
        "                     lq1= QuantumRegister(2, 'ancilla_qubit_alice')\n",
        "                     cr= ClassicalRegister(1)\n",
        "                     repetition_code_qc= QuantumCircuit(alice_qubit, ancilla_qubit, cr)\n",
        "                                            \n",
        "                     #Encoding \n",
        "                                              \n",
        "                     rep_ckt.cx(alice_qubit, ancilla_qubit)\n",
        "                     rep_ckt.barrier()\n",
        "\n",
        "                     #repetition_code_qc.h(alice_qubit[0])\n",
        "                     #repetition_code_qc.barrier()\n",
        "                     #repetition_code_qc.cx(alice_qubit,lq1)\n",
        "                     #repetition_code_qc.barrier()\n",
        "                                            \n",
        "                     repetition_code_qc.barrier()\n",
        "                                            \n",
        "                     if a1:\n",
        "                       a[0]=\"X\"\n",
        "                       repetition_code_qc.x(0)\n",
        "                     if a2:\n",
        "                       a[1]=\"X\"\n",
        "                       repetition_code_qc.x(1)\n",
        "                     if a3:\n",
        "                       a[2]=\"X\"\n",
        "                       repetition_code_qc.x(2)\n",
        "                                            \n",
        "                     #Decoding \n",
        "\n",
        "                     repetition_code_qc.cx(alice_qubit, ancilla_qubit)\n",
        "                     repetition_code_qc.mct([1,2],0)\n",
        "                                          \n",
        "                     sim = Aer.get_backend('qasm_simulator') \n",
        "                     #repetition_code_qc.measure(alice_qubit[0,0,0], lq1[0], lq1[1], cr[2])\n",
        "                     repetition_code_qc.measure(0,0)\n",
        "                     res= execute(repetition_code_qc, backend=sim, shots=64).result().get_counts()\n",
        "                     \n",
        "                     a.append(res)\n",
        "                     result.append(a)\n",
        "                     \n",
        "                    "
      ],
      "metadata": {
        "id": "vLzCd-EYIXYl"
      },
      "execution_count": null,
      "outputs": []
    },
    {
      "cell_type": "code",
      "source": [
        "result"
      ],
      "metadata": {
        "id": "5oRrONDFJP9A",
        "colab": {
          "base_uri": "https://localhost:8080/"
        },
        "outputId": "08f29a3f-3472-4656-a76f-4a7ed1c474b2"
      },
      "execution_count": null,
      "outputs": [
        {
          "output_type": "execute_result",
          "data": {
            "text/plain": [
              "[['I', 'I', 'I', {'0': 64}],\n",
              " ['I', 'I', 'X', {'0': 64}],\n",
              " ['I', 'X', 'I', {'0': 64}],\n",
              " ['I', 'X', 'X', {'1': 64}],\n",
              " ['X', 'I', 'I', {'0': 64}],\n",
              " ['X', 'I', 'X', {'1': 64}],\n",
              " ['X', 'X', 'I', {'1': 64}],\n",
              " ['X', 'X', 'X', {'1': 64}]]"
            ]
          },
          "metadata": {},
          "execution_count": 31
        }
      ]
    },
    {
      "cell_type": "code",
      "source": [
        "count=0\n",
        "corrected = []\n",
        "for c in result:\n",
        "    if c[3]=={'0': 64}:\n",
        "        count=count+1\n",
        "        corrected.append(c[:3])\n",
        "print(count)"
      ],
      "metadata": {
        "id": "mXJce_vZJSa1",
        "colab": {
          "base_uri": "https://localhost:8080/"
        },
        "outputId": "8358cc51-3c11-495f-fbd4-04579bd120b0"
      },
      "execution_count": null,
      "outputs": [
        {
          "output_type": "stream",
          "name": "stdout",
          "text": [
            "4\n"
          ]
        }
      ]
    },
    {
      "cell_type": "code",
      "source": [
        "corrected"
      ],
      "metadata": {
        "colab": {
          "base_uri": "https://localhost:8080/"
        },
        "id": "PUYSAbW-IsIx",
        "outputId": "7b2e069f-cb08-482b-abce-93bf61869ba2"
      },
      "execution_count": null,
      "outputs": [
        {
          "output_type": "execute_result",
          "data": {
            "text/plain": [
              "[['I', 'I', 'I'], ['I', 'I', 'X'], ['I', 'X', 'I'], ['X', 'I', 'I']]"
            ]
          },
          "metadata": {},
          "execution_count": 34
        }
      ]
    },
    {
      "cell_type": "code",
      "source": [
        "Summary= {0:0,1:0,2:0,3:0}\n",
        "for i in corrected:\n",
        "    count=0\n",
        "    for x in i:\n",
        "        if x==\"X\":\n",
        "            count=count+1\n",
        "    Summary[count]+=1\n",
        "\n",
        "print(Summary)"
      ],
      "metadata": {
        "id": "71qAIfj9JU72",
        "colab": {
          "base_uri": "https://localhost:8080/"
        },
        "outputId": "50baaaaa-e7da-40bd-97c0-d73af2bda48a"
      },
      "execution_count": null,
      "outputs": [
        {
          "output_type": "stream",
          "name": "stdout",
          "text": [
            "{0: 1, 1: 3, 2: 0, 3: 0}\n"
          ]
        }
      ]
    },
    {
      "cell_type": "code",
      "source": [
        "p=linspace(0,0.5,21)\n",
        "fid1= (1-p) # No repetition code\n",
        "\n",
        "fid2=0\n",
        "fid3=0\n",
        "\n",
        "c1=  Summary\n",
        "\n",
        "for i in range(4):\n",
        "     fid2+= c1[i]*(p**i)*((1-p)**(3-i))\n"
      ],
      "metadata": {
        "id": "Zh0O6LeiJXjt"
      },
      "execution_count": null,
      "outputs": []
    },
    {
      "cell_type": "code",
      "source": [
        "plot(p,sqrt(fid1), label=\"without repetition code\")\n",
        "plot(p,sqrt(fid2), label=\"With 3-repetition code\")\n",
        "title(\"Theoretical Fidelity in bit flip channel\")\n",
        "xlabel(\"Bit flip probability\")\n",
        "ylabel(\"Fidelity\")\n",
        "grid()\n",
        "legend()"
      ],
      "metadata": {
        "id": "tD79bQ7ZJYfN",
        "colab": {
          "base_uri": "https://localhost:8080/",
          "height": 312
        },
        "outputId": "9082f1ff-5ac2-4d70-9707-949c401885f2"
      },
      "execution_count": null,
      "outputs": [
        {
          "output_type": "execute_result",
          "data": {
            "text/plain": [
              "<matplotlib.legend.Legend at 0x7f4c1689bf90>"
            ]
          },
          "metadata": {},
          "execution_count": 41
        },
        {
          "output_type": "display_data",
          "data": {
            "text/plain": [
              "<Figure size 432x288 with 1 Axes>"
            ],
            "image/png": "[encoded data removed]"
          },
          "metadata": {
            "needs_background": "light"
          }
        }
      ]
    }
  ]
}